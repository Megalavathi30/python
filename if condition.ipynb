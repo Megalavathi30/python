{
 "cells": [
  {
   "cell_type": "code",
   "execution_count": 1,
   "id": "22f980de-209e-4d30-af3f-8e58975987ae",
   "metadata": {},
   "outputs": [
    {
     "name": "stdin",
     "output_type": "stream",
     "text": [
      "enter your skill: python\n",
      "enter your exp: 1\n",
      "enter your native: chennai\n"
     ]
    },
    {
     "name": "stdout",
     "output_type": "stream",
     "text": [
      "TCS\n"
     ]
    }
   ],
   "source": [
    "skill=input(\"enter your skill:\")\n",
    "exp=int(input(\"enter your exp:\"))\n",
    "native=input(\"enter your native:\")\n",
    "if skill==\"python\":\n",
    "    if(exp==1 and native==\"chennai\"):\n",
    "        print(\"TCS\")\n",
    "    elif(exp==2 and native==\"chennai\"):\n",
    "        print(\"Wipro\")\n",
    "    else:\n",
    "        print(\"Not Matched\")"
   ]
  },
  {
   "cell_type": "code",
   "execution_count": 3,
   "id": "b512cb57-fd8f-464d-9fb4-b7874d482134",
   "metadata": {},
   "outputs": [
    {
     "name": "stdin",
     "output_type": "stream",
     "text": [
      "enter your skill: java\n",
      "enter your exp: 1\n",
      "enter your native: coimbatore\n"
     ]
    },
    {
     "name": "stdout",
     "output_type": "stream",
     "text": [
      "Cognizant\n"
     ]
    }
   ],
   "source": [
    "skill=input(\"enter your skill:\")\n",
    "exp=int(input(\"enter your exp:\"))\n",
    "native=input(\"enter your native:\")\n",
    "if skill==\"java\":\n",
    "    if native==\"coimbatore\":\n",
    "        if exp==1:\n",
    "            print(\"Cognizant\")\n",
    "        elif exp==2:\n",
    "            print(\"Accenture\")\n",
    "        else:\n",
    "            print(\"Not Matched\")\n",
    "    elif native==\"chennai\":\n",
    "        if exp==1:\n",
    "            print(\"Trios\")\n",
    "        elif exp==2:\n",
    "            print(\"HCL\")\n",
    "        else:\n",
    "            print(\"Not Matched\")\n",
    "else:\n",
    "    print(\"Invalid candidate\")"
   ]
  },
  {
   "cell_type": "code",
   "execution_count": null,
   "id": "7bf12280-c79a-4051-b014-d4c2a3eb3c46",
   "metadata": {},
   "outputs": [],
   "source": []
  },
  {
   "cell_type": "code",
   "execution_count": null,
   "id": "4466ed79-2d52-47d7-9217-bcdcd7542266",
   "metadata": {},
   "outputs": [],
   "source": []
  }
 ],
 "metadata": {
  "kernelspec": {
   "display_name": "Python 3 (ipykernel)",
   "language": "python",
   "name": "python3"
  },
  "language_info": {
   "codemirror_mode": {
    "name": "ipython",
    "version": 3
   },
   "file_extension": ".py",
   "mimetype": "text/x-python",
   "name": "python",
   "nbconvert_exporter": "python",
   "pygments_lexer": "ipython3",
   "version": "3.13.5"
  }
 },
 "nbformat": 4,
 "nbformat_minor": 5
}
