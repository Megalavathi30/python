{
 "cells": [
  {
   "cell_type": "code",
   "execution_count": 2,
   "id": "b6b0f71a-713f-450c-a459-e47cb6bad078",
   "metadata": {},
   "outputs": [
    {
     "name": "stdout",
     "output_type": "stream",
     "text": [
      "12.0\n",
      "12\n",
      "(12+0j)\n"
     ]
    }
   ],
   "source": [
    "# casting\n",
    "m= 12\n",
    "print(float(m))     # int → float\n",
    "print(str(m))       # int → string\n",
    "print(complex(m))   # int → complex"
   ]
  },
  {
   "cell_type": "code",
   "execution_count": 3,
   "id": "d8fc1d26-58fc-4226-8b29-d73993cbb7bf",
   "metadata": {},
   "outputs": [
    {
     "name": "stdout",
     "output_type": "stream",
     "text": [
      "88\n",
      "88.0\n",
      "(88+0j)\n"
     ]
    }
   ],
   "source": [
    "x = \"88\"\n",
    "print(int(x))       # string → int\n",
    "print(float(x))     # string → float\n",
    "print(complex(x))   # string → complex"
   ]
  },
  {
   "cell_type": "code",
   "execution_count": 4,
   "id": "3845f453-14f1-4d5e-afe4-59f78a08236b",
   "metadata": {},
   "outputs": [
    {
     "name": "stdout",
     "output_type": "stream",
     "text": [
      "1234\n",
      "1234.0\n",
      "(1234+0j)\n"
     ]
    }
   ],
   "source": [
    "l = \"1234\"\n",
    "print(int(l))       # string → int\n",
    "print(float(l))     # string → float\n",
    "print(complex(l))   # string → complex"
   ]
  },
  {
   "cell_type": "code",
   "execution_count": null,
   "id": "89957594-a0b9-4f0e-978f-6bf6f2c2fb3d",
   "metadata": {},
   "outputs": [],
   "source": [
    "j2 = 1 + 3j\n",
    "print(str(j2))      # complex → string\n",
    "print(k3.real)      # get real part\n",
    "print(k3.imag)      # get imaginary part"
   ]
  }
 ],
 "metadata": {
  "kernelspec": {
   "display_name": "Python 3 (ipykernel)",
   "language": "python",
   "name": "python3"
  },
  "language_info": {
   "codemirror_mode": {
    "name": "ipython",
    "version": 3
   },
   "file_extension": ".py",
   "mimetype": "text/x-python",
   "name": "python",
   "nbconvert_exporter": "python",
   "pygments_lexer": "ipython3",
   "version": "3.13.5"
  }
 },
 "nbformat": 4,
 "nbformat_minor": 5
}
