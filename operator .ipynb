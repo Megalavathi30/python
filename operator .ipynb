{
 "cells": [
  {
   "cell_type": "code",
   "execution_count": null,
   "id": "cd7259c8-2b3c-44f2-8fb8-857913ec15f9",
   "metadata": {},
   "outputs": [],
   "source": [
    "# arithmetic operators"
   ]
  },
  {
   "cell_type": "code",
   "execution_count": 5,
   "id": "4cd502bd-e405-4fd0-b731-f36555324494",
   "metadata": {},
   "outputs": [
    {
     "name": "stdin",
     "output_type": "stream",
     "text": [
      "enter the a value: 2\n",
      "enter the b value: 7\n"
     ]
    }
   ],
   "source": [
    "\n",
    " a=int(input(\"enter the a value:\"))\n",
    " b=int(input(\"enter the b value:\"))\n",
    "       "
   ]
  },
  {
   "cell_type": "code",
   "execution_count": 6,
   "id": "3fdef668-ffa4-4c57-a400-c79007d96847",
   "metadata": {},
   "outputs": [
    {
     "name": "stdout",
     "output_type": "stream",
     "text": [
      "9\n"
     ]
    }
   ],
   "source": [
    "print(a+b)"
   ]
  },
  {
   "cell_type": "raw",
   "id": "04631fae-5e73-4769-98fd-ca43e4b56669",
   "metadata": {},
   "source": [
    "print(a-b)"
   ]
  },
  {
   "cell_type": "code",
   "execution_count": 7,
   "id": "5a676fe7-de1e-4a3f-bd94-b4e8f2836650",
   "metadata": {},
   "outputs": [
    {
     "name": "stdout",
     "output_type": "stream",
     "text": [
      "14\n"
     ]
    }
   ],
   "source": [
    "print(a*b)"
   ]
  },
  {
   "cell_type": "code",
   "execution_count": 8,
   "id": "aa1e75cb-db99-4a4e-b0a2-fb755ac3ec34",
   "metadata": {},
   "outputs": [
    {
     "name": "stdout",
     "output_type": "stream",
     "text": [
      "0.2857142857142857\n"
     ]
    }
   ],
   "source": [
    "print(a/b)"
   ]
  },
  {
   "cell_type": "code",
   "execution_count": 9,
   "id": "b5baad2f-624d-4c58-b989-40f54119d632",
   "metadata": {},
   "outputs": [
    {
     "name": "stdout",
     "output_type": "stream",
     "text": [
      "2\n"
     ]
    }
   ],
   "source": [
    "print(a%b)"
   ]
  },
  {
   "cell_type": "raw",
   "id": "bb45c5c1-cc88-4910-b38b-5c27a9c61c79",
   "metadata": {},
   "source": []
  },
  {
   "cell_type": "code",
   "execution_count": null,
   "id": "790326f9-55b6-4bdb-9d36-ba3631a74cbd",
   "metadata": {},
   "outputs": [],
   "source": [
    "# logical operator"
   ]
  },
  {
   "cell_type": "code",
   "execution_count": 11,
   "id": "1bef4cc7-bf85-4454-914b-6996c7305fd6",
   "metadata": {},
   "outputs": [
    {
     "name": "stdout",
     "output_type": "stream",
     "text": [
      "True\n"
     ]
    }
   ],
   "source": [
    "a=10\n",
    "b=7\n",
    "print(a>5 and b<50)"
   ]
  },
  {
   "cell_type": "code",
   "execution_count": 12,
   "id": "89284ddc-95a0-4124-b992-b73f36604745",
   "metadata": {},
   "outputs": [
    {
     "name": "stdout",
     "output_type": "stream",
     "text": [
      "True\n"
     ]
    }
   ],
   "source": [
    "print(a>5 or b<50)"
   ]
  },
  {
   "cell_type": "code",
   "execution_count": 14,
   "id": "6e2cbc9d-9df6-4770-8d46-6e5ac8e80eb3",
   "metadata": {},
   "outputs": [
    {
     "name": "stdout",
     "output_type": "stream",
     "text": [
      "False\n"
     ]
    }
   ],
   "source": [
    "print(not(a<5 or b<50))"
   ]
  },
  {
   "cell_type": "code",
   "execution_count": null,
   "id": "2fc51c12-72df-4b79-8e75-1e1a0f655d07",
   "metadata": {},
   "outputs": [],
   "source": [
    "# comparision operator"
   ]
  },
  {
   "cell_type": "code",
   "execution_count": 2,
   "id": "67aa2d00-a7c8-4467-b07a-42624ea1ef05",
   "metadata": {},
   "outputs": [
    {
     "name": "stdout",
     "output_type": "stream",
     "text": [
      "False\n",
      "True\n",
      "True\n",
      "False\n",
      "False\n",
      "True\n"
     ]
    }
   ],
   "source": [
    "a=2\n",
    "b=10\n",
    "print(2==10)\n",
    "print(2!=10)\n",
    "print(2<10)\n",
    "print(2>10)\n",
    "print(2>=10)\n",
    "print(2<=10)"
   ]
  },
  {
   "cell_type": "code",
   "execution_count": null,
   "id": "bd48c04f-28fb-4140-829d-d8eed21ec433",
   "metadata": {},
   "outputs": [],
   "source": [
    "# bitwise operator"
   ]
  },
  {
   "cell_type": "code",
   "execution_count": 6,
   "id": "f3ccd367-3f6f-4198-b456-201d00f13f63",
   "metadata": {},
   "outputs": [
    {
     "name": "stdout",
     "output_type": "stream",
     "text": [
      "2\n",
      "7\n",
      "5\n"
     ]
    }
   ],
   "source": [
    "a=6\n",
    "b=3\n",
    "print(a&b) # and\n",
    "print(a|b) #or\n",
    "print(a^b) #xor"
   ]
  },
  {
   "cell_type": "code",
   "execution_count": 7,
   "id": "26ef3fcf-fe8d-41b5-8d88-6531bce2ee23",
   "metadata": {},
   "outputs": [
    {
     "name": "stdout",
     "output_type": "stream",
     "text": [
      "-7\n"
     ]
    }
   ],
   "source": [
    "a=6 \n",
    "print(~a) #not(~)"
   ]
  },
  {
   "cell_type": "code",
   "execution_count": 11,
   "id": "f5040f39-c7cc-42b3-84bd-2609312e1736",
   "metadata": {},
   "outputs": [
    {
     "name": "stdout",
     "output_type": "stream",
     "text": [
      "12\n"
     ]
    }
   ],
   "source": [
    "a=6\n",
    "print(a<<1) #left shift"
   ]
  },
  {
   "cell_type": "code",
   "execution_count": 13,
   "id": "082f7951-b8b7-4d5b-8f07-28fafc1fff27",
   "metadata": {},
   "outputs": [
    {
     "name": "stdout",
     "output_type": "stream",
     "text": [
      "3\n"
     ]
    }
   ],
   "source": [
    "a=6\n",
    "print(a>>1) #Right shift"
   ]
  },
  {
   "cell_type": "code",
   "execution_count": null,
   "id": "a778db51-fd7a-4bad-8d0c-614483aa2b05",
   "metadata": {},
   "outputs": [],
   "source": [
    "# identify operator"
   ]
  },
  {
   "cell_type": "code",
   "execution_count": 17,
   "id": "412316bd-c063-46ab-8cf5-891d006de754",
   "metadata": {},
   "outputs": [
    {
     "name": "stdout",
     "output_type": "stream",
     "text": [
      "True\n",
      "True\n"
     ]
    }
   ],
   "source": [
    "x=[1,2,3]\n",
    "y=x\n",
    "z=[1,2,3]\n",
    "print(x is y)\n",
    "print(x is  not z )"
   ]
  },
  {
   "cell_type": "code",
   "execution_count": null,
   "id": "eb0f3e9f-5f7f-4a2b-9303-1070c7f1bc79",
   "metadata": {},
   "outputs": [],
   "source": [
    "#membership operator"
   ]
  },
  {
   "cell_type": "code",
   "execution_count": null,
   "id": "91bb9ed0-b304-4e96-8735-34f396564c31",
   "metadata": {},
   "outputs": [],
   "source": [
    "a=\"hello world\"\n",
    "print(\"h in a\")\n",
    "print("
   ]
  }
 ],
 "metadata": {
  "kernelspec": {
   "display_name": "Python 3 (ipykernel)",
   "language": "python",
   "name": "python3"
  },
  "language_info": {
   "codemirror_mode": {
    "name": "ipython",
    "version": 3
   },
   "file_extension": ".py",
   "mimetype": "text/x-python",
   "name": "python",
   "nbconvert_exporter": "python",
   "pygments_lexer": "ipython3",
   "version": "3.13.5"
  }
 },
 "nbformat": 4,
 "nbformat_minor": 5
}
