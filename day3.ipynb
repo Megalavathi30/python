{
 "cells": [
  {
   "cell_type": "code",
   "execution_count": 1,
   "id": "722d6caf-da39-4d03-b37f-164b2bcbd5e5",
   "metadata": {},
   "outputs": [
    {
     "name": "stdout",
     "output_type": "stream",
     "text": [
      "Hello World\n"
     ]
    }
   ],
   "source": [
    "#string method\n",
    "#title-converts first letter of each world to uppercase\n",
    "a=\"hello world\"\n",
    "print(a.title())\n"
   ]
  },
  {
   "cell_type": "code",
   "execution_count": 2,
   "id": "792791b7-b6b5-412d-96c5-f17754b93a44",
   "metadata": {},
   "outputs": [
    {
     "name": "stdout",
     "output_type": "stream",
     "text": [
      "mEgAlAvATHi\n"
     ]
    }
   ],
   "source": [
    "#swapcase()-swaps uppercase to lowercase and vice verse\n",
    "b=\"MeGaLaVathI\"\n",
    "print(b.swapcase())"
   ]
  },
  {
   "cell_type": "code",
   "execution_count": 1,
   "id": "6c414d25-5828-470c-ad05-9b1f6db7260d",
   "metadata": {},
   "outputs": [
    {
     "name": "stdout",
     "output_type": "stream",
     "text": [
      "True\n"
     ]
    }
   ],
   "source": [
    "#checks if the string starts with the given prefix.\n",
    "text = \"Python is fun\"\n",
    "print(text.startswith(\"Python\"))  # Output: True\n"
   ]
  },
  {
   "cell_type": "code",
   "execution_count": 2,
   "id": "8fdd7f01-8506-4777-9bae-cbb50d49436b",
   "metadata": {},
   "outputs": [
    {
     "name": "stdout",
     "output_type": "stream",
     "text": [
      "6\n"
     ]
    }
   ],
   "source": [
    "#returns the index of the first occurrence of a substring.\n",
    "text = \"hello world\"\n",
    "print(text.find(\"world\"))  # Output: 6\n"
   ]
  },
  {
   "cell_type": "code",
   "execution_count": 3,
   "id": "2adea645-93ab-4b21-a3a1-9cc5746bdabc",
   "metadata": {},
   "outputs": [
    {
     "name": "stdout",
     "output_type": "stream",
     "text": [
      "True\n"
     ]
    }
   ],
   "source": [
    "#Returns True if all characters are alphabetic.\n",
    "text = \"Hello\"\n",
    "print(text.isalpha())  # Output: True\n"
   ]
  },
  {
   "cell_type": "code",
   "execution_count": null,
   "id": "9e3b9069-b07a-4bae-8cfb-30cd487c3c71",
   "metadata": {},
   "outputs": [],
   "source": []
  }
 ],
 "metadata": {
  "kernelspec": {
   "display_name": "Python 3 (ipykernel)",
   "language": "python",
   "name": "python3"
  },
  "language_info": {
   "codemirror_mode": {
    "name": "ipython",
    "version": 3
   },
   "file_extension": ".py",
   "mimetype": "text/x-python",
   "name": "python",
   "nbconvert_exporter": "python",
   "pygments_lexer": "ipython3",
   "version": "3.13.5"
  }
 },
 "nbformat": 4,
 "nbformat_minor": 5
}
